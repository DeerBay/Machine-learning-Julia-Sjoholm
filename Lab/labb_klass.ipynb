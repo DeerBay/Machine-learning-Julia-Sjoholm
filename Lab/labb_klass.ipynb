{
 "cells": [
  {
   "cell_type": "markdown",
   "metadata": {},
   "source": [
    "### Introduktion / Problemlösmning\n",
    "    - Vad är det som ska lösas\n",
    "    - Vilka förklarings och responsvaribaler väl - motivera varför\n",
    "    - Beskriv vilka delar av teorin som är relevanta för rapporten\n",
    "    - Skriv ner relevanta formler och definitioner\n",
    "### Data-analys (EDA)\n",
    "    - Beskriv vilka samband som finns i datamängden. Lyft bara fram dem som används i slutändan.\n",
    "    - Övrig info behöver inte någon mer utförlig analys i en sån här kortare rapport\n",
    "### Modell\n",
    "    - Beskriv algoritmer/modell du använt samt vilka hyper-parametrar du använt. \n",
    "    - Nämn alla modeller som avänds, beskriv bara i detalj den som faktiskt använts. Beskriv och dokumentera val. \n",
    "### Resultat\n",
    "    - Utvärdera modellen\n",
    "    - Jämför modeller tex i tabell. I löptext beskriv bara den modell som använts.\n",
    "    - Se till att beskriva både i ord och figur eller output.\n",
    "### Diskussion\n",
    "    - Förklara tillkortakommanden varför blev det bra vad blev inte bra\n",
    "    - Vad kunde gjorts annorlunda\n",
    "    - Vad innebär det om den inte hade så bra resultat\n",
    "    - Begränsningar (vad innebär det om man gissar fel, konsekvenser tex)\n",
    "    - Resonera vad resultatet innebär för probemställningen\n",
    "\n",
    "Allmänt:\n",
    "\n",
    "* Skriv inte kronologiskt\n",
    "* Skriv som du känt till resultaten hela tiden, dvs perspektivet är i efterhand utförandet är i dåtid.\n",
    "* Skriv i löpande form (någon ska kunna läsa och förstå utan tillgång till lab PM)\n",
    "* Några paragrafer i varje del\n",
    "* Underlag för ca 15 minuters presentation\n",
    "* Undvik pronomen\n",
    "\n",
    "Källa: [Dataset - Kaggle (Cardiovascular Disease dataset Svetlana Ulianova)](https://www.kaggle.com/datasets/sulianova/cardiovascular-disease-dataset/data)\n",
    "\n"
   ]
  },
  {
   "cell_type": "code",
   "execution_count": null,
   "metadata": {},
   "outputs": [],
   "source": [
    "import pandas as pd\n",
    "\n",
    "df = pd.read_csv(\"../Lab/data/cardio_train.csv\",sep=\";\")\n",
    "df.head()\n"
   ]
  },
  {
   "cell_type": "code",
   "execution_count": null,
   "metadata": {},
   "outputs": [],
   "source": [
    "df.describe().T"
   ]
  },
  {
   "cell_type": "code",
   "execution_count": null,
   "metadata": {},
   "outputs": [],
   "source": [
    "df[\"cardio\"].value_counts()"
   ]
  },
  {
   "cell_type": "code",
   "execution_count": null,
   "metadata": {},
   "outputs": [],
   "source": [
    "df[\"cholesterol\"].value_counts()"
   ]
  },
  {
   "cell_type": "code",
   "execution_count": null,
   "metadata": {},
   "outputs": [],
   "source": [
    "import seaborn as sns\n",
    "import matplotlib.pyplot as plt\n",
    "df['years'] = (df['age'] / 365).round().astype('int')\n",
    "sns.countplot(x='years', \n",
    "              hue='cardio', \n",
    "              data = df, \n",
    "              palette=\"Set1\",\n",
    "              stat=\"count\");"
   ]
  },
  {
   "cell_type": "code",
   "execution_count": null,
   "metadata": {},
   "outputs": [],
   "source": [
    "sns.countplot(x='years', \n",
    "              hue='smoke', \n",
    "              data = df, \n",
    "              palette=\"tab10\",\n",
    "              stat=\"proportion\");"
   ]
  },
  {
   "cell_type": "code",
   "execution_count": null,
   "metadata": {},
   "outputs": [],
   "source": [
    "sns.histplot(data=df, x=\"weight\", bins=50)"
   ]
  },
  {
   "cell_type": "code",
   "execution_count": null,
   "metadata": {},
   "outputs": [],
   "source": [
    "from pandas import \n"
   ]
  }
 ],
 "metadata": {
  "kernelspec": {
   "display_name": "Machine-learning-Julia-Sjoholm-v5lD_GMu",
   "language": "python",
   "name": "python3"
  },
  "language_info": {
   "codemirror_mode": {
    "name": "ipython",
    "version": 3
   },
   "file_extension": ".py",
   "mimetype": "text/x-python",
   "name": "python",
   "nbconvert_exporter": "python",
   "pygments_lexer": "ipython3",
   "version": "3.12.1"
  },
  "orig_nbformat": 4
 },
 "nbformat": 4,
 "nbformat_minor": 2
}
